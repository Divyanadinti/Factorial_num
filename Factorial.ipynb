{
 "cells": [
  {
   "cell_type": "markdown",
   "id": "c7e55279",
   "metadata": {},
   "source": [
    "Write a Python function to calculate the factorial of a number."
   ]
  },
  {
   "cell_type": "code",
   "execution_count": 1,
   "id": "22bf011e",
   "metadata": {},
   "outputs": [
    {
     "name": "stdout",
     "output_type": "stream",
     "text": [
      "120\n"
     ]
    }
   ],
   "source": [
    "def factorial(n):\n",
    "    if n == 0 or n == 1:\n",
    "        return 1\n",
    "    else:\n",
    "        return n * factorial(n - 1)\n",
    "\n",
    "# Example usage\n",
    "print(factorial(5))"
   ]
  },
  {
   "cell_type": "code",
   "execution_count": 2,
   "id": "2dcd4fd7",
   "metadata": {},
   "outputs": [
    {
     "name": "stdout",
     "output_type": "stream",
     "text": [
      "Factorial of 5 is 120\n"
     ]
    }
   ],
   "source": [
    "number = 5\n",
    "factorial = 1\n",
    "\n",
    "if number < 0:\n",
    "    print(\"Factorial is not defined for negative numbers.\")\n",
    "elif number == 0:\n",
    "    print(\"Factorial of 0 is 1\")\n",
    "else:\n",
    "    for i in range(1, number + 1):\n",
    "        factorial *= i\n",
    "    print(\"Factorial of\", number, \"is\", factorial)"
   ]
  },
  {
   "cell_type": "code",
   "execution_count": null,
   "id": "a387d989",
   "metadata": {},
   "outputs": [],
   "source": []
  }
 ],
 "metadata": {
  "kernelspec": {
   "display_name": "Python 3 (ipykernel)",
   "language": "python",
   "name": "python3"
  },
  "language_info": {
   "codemirror_mode": {
    "name": "ipython",
    "version": 3
   },
   "file_extension": ".py",
   "mimetype": "text/x-python",
   "name": "python",
   "nbconvert_exporter": "python",
   "pygments_lexer": "ipython3",
   "version": "3.10.9"
  }
 },
 "nbformat": 4,
 "nbformat_minor": 5
}
